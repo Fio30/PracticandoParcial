{
 "cells": [
  {
   "cell_type": "markdown",
   "id": "a8744ec0-b55a-4b5e-a3ac-cd86bcef613e",
   "metadata": {},
   "source": [
    "## <center>PROBANDO ARCHIVO IPYNB</center>"
   ]
  },
  {
   "cell_type": "markdown",
   "id": "1db7ad7a-190c-4457-b9a8-3948043db6b1",
   "metadata": {},
   "source": [
    "Somos grupo en Lenguaje de Programacion II\n",
    "\n",
    "<b>Integrantes</b>\n",
    "* Carrasco Lagos,Fiorella\n",
    "* Sánchez Villena,Estefany\n",
    "* Orellana Nolaasco,Piero"
   ]
  },
  {
   "cell_type": "code",
   "execution_count": 1,
   "id": "8084e33a-bbda-4261-b464-1c671595445b",
   "metadata": {},
   "outputs": [
    {
     "name": "stdout",
     "output_type": "stream",
     "text": [
      "8\n"
     ]
    }
   ],
   "source": [
    "x=4\n",
    "y=2\n",
    "m=x*y\n",
    "print(m)"
   ]
  },
  {
   "cell_type": "markdown",
   "id": "c0decd8f",
   "metadata": {},
   "source": [
    "Editando desde GitHub"
   ]
  },
  {
   "cell_type": "markdown",
   "id": "07e9e2cd-be90-4a0e-a5d0-4f6355bb9233",
   "metadata": {},
   "source": [
    "añadiendo texto (otra cuenta)"
   ]
  },
  {
   "cell_type": "markdown",
   "id": "fb45e787-28f8-4995-9e91-6b678f92776f",
   "metadata": {},
   "source": [
    "![github](https://th.bing.com/th/id/OIP.9PnPjPI65fGwLiMfluVLrwHaDt?rs=1&pid=ImgDetMain)"
   ]
  },
  {
   "cell_type": "markdown",
   "id": "a4f9f62e-4c3a-433d-a21e-97f7ddf2541c",
   "metadata": {},
   "source": [
    "Probando añadir una imagen"
   ]
  },
  {
   "cell_type": "markdown",
   "id": "c3390222-c35f-4592-821e-03aeba9c647a",
   "metadata": {},
   "source": [
    "Probando expresiones regulares"
   ]
  },
  {
   "cell_type": "code",
   "execution_count": 1,
   "id": "4954ef8f-c424-44e2-b309-e6c606650751",
   "metadata": {},
   "outputs": [
    {
     "name": "stdout",
     "output_type": "stream",
     "text": [
      "['Github']\n",
      "La palabra 'Github' aparece 1 veces en el texto.\n"
     ]
    }
   ],
   "source": [
    "import re\n",
    "texto = \"Si practicamos aprenderemos Github.\"\n",
    "patron = r\"Github\"\n",
    "coincidencias = re.findall(patron, texto)\n",
    "print(coincidencias)  # Salida: ['Github']\n",
    "print(f\"La palabra 'Github' aparece {len(coincidencias)} veces en el texto.\")"
   ]
  },
  {
   "cell_type": "markdown",
   "id": "4f92b562-a15b-454d-802e-106e0bf58152",
   "metadata": {},
   "source": [
    "<b><center> Cambios hechos el 11/05/2024<b></center>"
   ]
  },
  {
   "cell_type": "markdown",
   "id": "a58870b3-73b1-4f8a-8715-32bac8dee88f",
   "metadata": {},
   "source": [
    "[![video](https://img.youtube.com/vi/ID-iJOw9rLo/0.jpg)](https://youtu.be/ID-iJOw9rLo)"
   ]
  },
  {
   "cell_type": "markdown",
   "id": "3342c084-a3c2-4028-8afc-e6b8b5400d3f",
   "metadata": {},
   "source": [
    "### Cambios hechos el 12 de abril por Estefany Sanchez"
   ]
  },
  {
   "cell_type": "markdown",
   "id": "d4bb4ced-bcd4-4859-913c-33def14cc4d9",
   "metadata": {},
   "source": [
    "#### calculando area de un circulo"
   ]
  },
  {
   "cell_type": "code",
   "execution_count": 2,
   "id": "1992eded-92ca-469b-abc1-86b7708e09e8",
   "metadata": {},
   "outputs": [
    {
     "name": "stdin",
     "output_type": "stream",
     "text": [
      "Ingrese el radio del círculo:  2\n"
     ]
    },
    {
     "name": "stdout",
     "output_type": "stream",
     "text": [
      "El área del círculo con radio 2.0 es: 12.566370614359172\n"
     ]
    }
   ],
   "source": [
    "import math\r\n",
    "\r\n",
    "def calcular_area_circulo(radio):\r\n",
    "    area = math.pi * radio**2\r\n",
    "    return area\r\n",
    "\r\n",
    "radio = float(input(\"Ingrese el radio del círculo: \"))\r\n",
    "area = calcular_area_circulo(radio)\r\n",
    "print(\"El área del círculo con radio\", radio, \"es:\", area)\r\n",
    "\n"
   ]
  },
  {
   "cell_type": "markdown",
   "id": "b0803665-6568-4ef7-86fe-44b28e75b965",
   "metadata": {},
   "source": [
    "#### calculando si la cadena es palindromo"
   ]
  },
  {
   "cell_type": "code",
   "execution_count": 3,
   "id": "a6612045-ce1f-4289-908b-6d78ee8a7d42",
   "metadata": {},
   "outputs": [
    {
     "name": "stdin",
     "output_type": "stream",
     "text": [
      "Ingrese una cadena de texto:  anita lava la tina\n"
     ]
    },
    {
     "name": "stdout",
     "output_type": "stream",
     "text": [
      "¡La cadena es un palíndromo!\n"
     ]
    }
   ],
   "source": [
    "def es_palindromo(cadena):\n",
    "    # Convertir la cadena a minúsculas y eliminar los espacios en blanco\n",
    "    cadena = cadena.lower().replace(\" \", \"\")\n",
    "    # Comparar la cadena original con su reverso\n",
    "    return cadena == cadena[::-1]\n",
    "\n",
    "# Pedir al usuario que ingrese una cadena de texto\n",
    "texto = input(\"Ingrese una cadena de texto: \")\n",
    "\n",
    "# Verificar si es un palíndromo o no\n",
    "if es_palindromo(texto):\n",
    "    print(\"¡La cadena es un palíndromo!\")\n",
    "else:\n",
    "    print(\"La cadena no es un palíndromo.\")\n"
   ]
  },
  {
   "cell_type": "markdown",
   "id": "26fe9e83-5e0f-426d-8aa6-ac4fe2a456d7",
   "metadata": {},
   "source": [
    "# Cómo agregar archivos a un repositorio Git y hacer un commit\r\n",
    "1. **Verificar el estado de los archivos:**\r\n",
    "   Antes de agregar archivos al repositorio, es útil verificar el estado de los archivos en tu directorio de trabajo. Puedes hacerlo utilizando el coman\n",
    "   do:\r\n",
    "   ```bash\r\n",
    "   git st   git add .\n",
    "   git commit -m \"Agregado archivo.py y modificado README.md\"\r",
    "\r\n",
    "Este fragmento explica de manera concisa cómo agregar archivos al área de preparación y realizar un commit en Git, que son acciones fundamentales en el control de versiones.ones.\r\n",
    "\r\n",
    "atus\r\n"
   ]
  },
  {
   "cell_type": "markdown",
   "id": "2c5fba76-337f-42c7-bcfc-09501d4495a9",
   "metadata": {},
   "source": [
    "## Clonar un repositorio Git y realizar un push\r\n",
    "\r\n",
    "1. **Clonar un repositorio remoto:**\r\n",
    "   Para clonar un repositorio Git desde un servidor remoto a tu máquina local, puedes utilizar el comando `git clone`. Por ejemplo, para clonar un repositorio desde GitHub, puedes usar:\r\n",
    "   ```bash\r\n",
    "   git clone https://github.com/usuario/nombre-repositorio.git\r\n"
   ]
  },
  {
   "cell_type": "markdown",
   "id": "01def5ec-0db1-4312-8a83-47259b69b153",
   "metadata": {},
   "source": [
    "Esto creará una copia del repositorio en tu directorio local.\n",
    "\n",
    " 2. **Realizar cambios y realizar un commit:**\n",
    "Una vez que hayas clonado el repositorio y realices cambios en los archivos, puedes agregar estos cambios al área de preparación y realizar un commit como se describe en el fragmento anterior."
   ]
  },
  {
   "cell_type": "markdown",
   "id": "46d547e9-149d-4d11-96a3-1347009aec3a",
   "metadata": {},
   "source": [
    " 3. **Subir cambios al repositorio remoto (push):**\n",
    "\n",
    "Después de realizar un commit con tus cambios, puedes subirlos al repositorio remoto utilizando el comando git push. Por ejemplo, para enviar los cambios al servidor remoto en la rama principal (generalmente master o main), puede:\n",
    " usar:"
   ]
  },
  {
   "cell_type": "markdown",
   "id": "33fd72de-9ac6-4148-a67c-3a8e80a1ef19",
   "metadata": {},
   "source": [
    "_git push origin master_\r\n",
    "\n",
    "Donde origin es el nombre del repositorio remoto y master es la rama en la que estás trabajando. Puedes cambiar master por el nombre de otra rama si es necesario."
   ]
  },
  {
   "cell_type": "markdown",
   "id": "43f84c73-a52c-4adc-a866-beacc9df2fdc",
   "metadata": {},
   "source": [
    "4. **Actualizar tu repositorio local con cambios remotos (pull):**\n",
    "   \r\n",
    "Si otros colaboradores han realizado cambios en el repositorio remoto y deseas obtener esos cambios en tu repositorio local, puedes utilizar el comando git pull. Esto combinará los cambios remotos en tu rama local. Por ejemplo:"
   ]
  },
  {
   "cell_type": "markdown",
   "id": "1df09c9c-5845-4093-8ce2-b5d1599c2af8",
   "metadata": {},
   "source": [
    "_git pull origin master_\n",
    "\n",
    "Esto traerá los cambios de la rama master del repositorio remoto origin a tu repositorio local.\n",
    "\n",
    "Este fragmento amplía el proceso básico de trabajar con Git al incluir el clonado de un repositorio desde un servidor remoto \n",
    "y cómo subir y obtener cambios desde ese repositorio remoto."
   ]
  },
  {
   "cell_type": "markdown",
   "id": "0a937991-a79e-423f-8981-94070bd0c244",
   "metadata": {},
   "source": [
    "### Codigo de ejemplo sobre Expresiones regulares:"
   ]
  },
  {
   "cell_type": "code",
   "execution_count": 1,
   "id": "3f35f3a8-6863-4a2e-b2ad-78e99dd8ed0b",
   "metadata": {},
   "outputs": [
    {
     "name": "stdout",
     "output_type": "stream",
     "text": [
      "www.google.com\n",
      "http://www.google.pl/search?q=exercise+programming\n",
      "https://www.google.cz/search?q=exercise&var=variable\n"
     ]
    }
   ],
   "source": [
    "import re\n",
    "\n",
    "def extraer_urls(texto):\n",
    "    patron = r'(https?://[^\\s]+|www\\.[^\\s]+)'\n",
    "    urls = re.findall(patron, texto)\n",
    "    \n",
    "    for url in urls:\n",
    "        print(url)\n",
    "        \n",
    "# Texto de ejemplo\n",
    "texto = \"\"\"\n",
    "www.google.com\n",
    "http://www.google.pl/search?q=exercise+programming\n",
    "https://www.google.cz/search?q=exercise&var=variable\n",
    "\"\"\"\n",
    "\n",
    "extraer_urls(texto)\n",
    "\n",
    "."
   ]
  },
  {
   "cell_type": "markdown",
   "id": "05cfa481-69b8-49f1-b40c-23b600698d5e",
   "metadata": {},
   "source": [
    "### Explicacion del codigo:\n",
    "\n",
    "<p><strong>Importar el módulo 're':</strong> Esto importa el módulo 're', que proporciona funciones para trabajar con expresiones regulares en Python.</p>\n",
    "\n",
    "<p><strong>Definición de la función 'extraer_urls':</strong> Define una función llamada 'extraer_urls' que toma un parámetro llamado texto, que es el texto del cual queremos extraer las URLs.</p>\n",
    "\n",
    "<p><strong>Definición del patrón de expresión regular:</strong> Se define un patrón de expresión regular en la variable 'patron'. Este patrón busca cadenas que comiencen con 'http://' o 'https://', seguido de cualquier secuencia de caracteres que no sean espacios en blanco, o cadenas que comiencen con 'www.', seguido de cualquier secuencia de caracteres que no sean espacios en blanco.</p>\n",
    "\n",
    "<p><strong>Uso de 're.findall':</strong> Se utiliza el método 'findall' del módulo re para encontrar todas las coincidencias del patrón en el texto y se almacenan en la lista urls.</p>\n",
    "\n",
    "<p><strong>Iteración sobre las URLs encontradas:</strong> Se itera sobre la lista de URLs encontradas.</p>\n",
    "\n",
    "<p><strong>Impresión de cada URL:</strong> Se imprime cada URL encontrada en el texto.</p>\n",
    "\n",
    "<p><strong>Texto de ejemplo:</strong> Se proporciona un texto de ejemplo que contiene algunas URLs.</p>\n",
    "\n",
    "<p><strong>Llamada' a la función 'extraer_urls:'</strong> Se llama a la función 'extraer_urls' con el texto de ejemplo como argumento para extraer y mostrar todas las URLs encontradas en ese texto.</p>"
   ]
  },
  {
   "cell_type": "code",
   "execution_count": null,
   "id": "1c45f07e-6f82-434c-9390-08a701b300f7",
   "metadata": {},
   "outputs": [],
   "source": []
  },
  {
   "cell_type": "code",
   "execution_count": null,
   "id": "58f0bb36-f1fd-4122-ad24-47fc3234276a",
   "metadata": {},
   "outputs": [],
   "source": []
  }
 ],
 "metadata": {
  "kernelspec": {
   "display_name": "Python 3 (ipykernel)",
   "language": "python",
   "name": "python3"
  },
  "language_info": {
   "codemirror_mode": {
    "name": "ipython",
    "version": 3
   },
   "file_extension": ".py",
   "mimetype": "text/x-python",
   "name": "python",
   "nbconvert_exporter": "python",
   "pygments_lexer": "ipython3",
   "version": "3.11.7"
  }
 },
 "nbformat": 4,
 "nbformat_minor": 5
}
