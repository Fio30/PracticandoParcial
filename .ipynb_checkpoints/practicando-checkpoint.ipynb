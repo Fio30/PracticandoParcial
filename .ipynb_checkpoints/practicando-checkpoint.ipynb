{
 "cells": [
  {
   "cell_type": "markdown",
   "id": "a8744ec0-b55a-4b5e-a3ac-cd86bcef613e",
   "metadata": {},
   "source": [
    "## <center>PROBANDO ARCHIVO IPYNB</center>"
   ]
  },
  {
   "cell_type": "markdown",
   "id": "1db7ad7a-190c-4457-b9a8-3948043db6b1",
   "metadata": {},
   "source": [
    "Somos grupo en lenguaje de programación\n",
    "\n",
    "<b>Integrantes</b>\n",
    "* Carrasco Lagos Fiorella\n",
    "* Sánchez Villena Estefany\n",
    "* Orellana Nolaasco Piero"
   ]
  },
  {
   "cell_type": "code",
   "execution_count": 1,
   "id": "8084e33a-bbda-4261-b464-1c671595445b",
   "metadata": {},
   "outputs": [
    {
     "name": "stdout",
     "output_type": "stream",
     "text": [
      "8\n"
     ]
    }
   ],
   "source": [
    "x=4\n",
    "y=2\n",
    "m=x*y\n",
    "print(m)"
   ]
  },
  {
   "cell_type": "markdown",
   "id": "c0decd8f",
   "metadata": {},
   "source": [
    "Editando desde GitHub"
   ]
  },
  {
   "cell_type": "markdown",
   "id": "07e9e2cd-be90-4a0e-a5d0-4f6355bb9233",
   "metadata": {},
   "source": [
    "añadiendo texto (otra cuenta)"
   ]
  },
  {
   "cell_type": "markdown",
   "id": "fb45e787-28f8-4995-9e91-6b678f92776f",
   "metadata": {},
   "source": [
    "![github](https://th.bing.com/th/id/OIP.9PnPjPI65fGwLiMfluVLrwHaDt?rs=1&pid=ImgDetMain)"
   ]
  },
  {
   "cell_type": "markdown",
   "id": "a4f9f62e-4c3a-433d-a21e-97f7ddf2541c",
   "metadata": {},
   "source": [
    "Probando añadir una imagen"
   ]
  },
  {
   "cell_type": "markdown",
   "id": "c3390222-c35f-4592-821e-03aeba9c647a",
   "metadata": {},
   "source": [
    "Probando expresiones regulares"
   ]
  },
  {
   "cell_type": "code",
   "execution_count": 1,
   "id": "4954ef8f-c424-44e2-b309-e6c606650751",
   "metadata": {},
   "outputs": [
    {
     "name": "stdout",
     "output_type": "stream",
     "text": [
      "['Github']\n",
      "La palabra 'Github' aparece 1 veces en el texto.\n"
     ]
    }
   ],
   "source": [
    "import re\n",
    "texto = \"Si practicamos aprenderemos Github.\"\n",
    "patron = r\"Github\"\n",
    "coincidencias = re.findall(patron, texto)\n",
    "print(coincidencias)  # Salida: ['Github']\n",
    "print(f\"La palabra 'Github' aparece {len(coincidencias)} veces en el texto.\")"
   ]
  },
  {
   "cell_type": "markdown",
   "id": "4f92b562-a15b-454d-802e-106e0bf58152",
   "metadata": {},
   "source": [
    "Cambios hechos el 11/05/2024(Piero)"
   ]
  }
 ],
 "metadata": {
  "kernelspec": {
   "display_name": "Python 3 (ipykernel)",
   "language": "python",
   "name": "python3"
  },
  "language_info": {
   "codemirror_mode": {
    "name": "ipython",
    "version": 3
   },
   "file_extension": ".py",
   "mimetype": "text/x-python",
   "name": "python",
   "nbconvert_exporter": "python",
   "pygments_lexer": "ipython3",
   "version": "3.11.7"
  }
 },
 "nbformat": 4,
 "nbformat_minor": 5
}
