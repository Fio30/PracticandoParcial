{
 "cells": [
  {
   "cell_type": "markdown",
   "metadata": {
    "id": "vDHpbIfcX7Ob"
   },
   "source": [
    "# **Expresiones Regulares**\n"
   ]
  },
  {
   "cell_type": "markdown",
   "metadata": {},
   "source": [
    "Estoy probando para subir a github"
   ]
  },
  {
   "cell_type": "markdown",
   "metadata": {
    "id": "SDF34XTG8e81"
   },
   "source": [
    "**Cuantificación**\n",
    "\n",
    "Un cuantificador tras un carácter especifica la frecuencia con la que este puede ocurrir. Los cuantificadores más comunes son **`?`, `+` y `*`**:\n",
    "\n",
    "- **El signo de interrogación `?`** indica que el carácter que le precede puede aparecer como mucho una vez. Por ejemplo, ob`?`scuro se corresponde con oscuro y obscuro.  \n",
    "- **El signo más `+`** indica que el carácter que le precede debe aparecer al menos una vez. Por ejemplo, ho`+`la describe el conjunto infinito hola, hoola, hooola, hoooola, etcétera.  \n",
    "- **El asterisco `*`** indica que el carácter que le precede puede aparecer cero, una, o más veces. Por ejemplo, 0`*`42 se corresponde con 42, 042, 0042, 00042, etcétera.  "
   ]
  },
  {
   "cell_type": "markdown",
   "metadata": {
    "id": "-jOlXLKNCjop"
   },
   "source": [
    "**El punto \".\"**\n",
    "El punto se interpreta por el motor de búsqueda como \"cualquier carácter\", es decir, busca cualquier carácter incluyendo los saltos de línea.\n",
    "\n",
    "Aunque el punto es muy útil para encontrar caracteres que no conocemos, es necesario recordar que corresponde a cualquier carácter y que muchas veces esto no es lo que se requiere. Es muy diferente buscar cualquier carácter que buscar cualquier carácter alfanumérico o cualquier dígito o cualquier no-dígito o cualquier no-alfanumérico. Se debe tomar esto en cuenta antes de utilizar el punto y obtener resultados no deseados.  \n",
    "\n",
    "**El signo de exclamación \"!\"**\n",
    "Se utiliza para realizar una \"búsqueda anticipada negativa\". La construcción de la expresión regular es con el par de paréntesis, el paréntesis de apertura seguido de un signo de interrogación y un signo de exclamación. Dentro de la búsqueda tenemos la expresión regular. Por ejemplo, para excluir exactamente una palabra, habrá que utilizar ^(palabra.+|(?!palabra).*)$.\n",
    "\n",
    "**La barra inversa o contrabarra \"\\\\\"**\n",
    "La barra inversa se utiliza para escapar el siguiente carácter de la expresión de búsqueda de forma que este adquiera un significado especial o deje de tenerlo. O sea, la barra inversa no se utiliza nunca por sí sola, sino en combinación con otros caracteres. Al utilizarlo por ejemplo en combinación con el punto \\. este deja de tener su significado normal y se comporta como un carácter literal.\n",
    "\n",
    "De la misma forma, cuando se coloca la barra inversa seguida de cualquiera de los caracteres especiales, estos dejan de tener su significado especial y se convierten en caracteres de búsqueda literal.\n",
    "\n",
    "Como ya se mencionó con anterioridad, la barra inversa también puede darle significado especial a caracteres que no lo tienen. A continuación hay una lista de algunas de estas combinaciones:\n",
    "\n",
    "- \\t — Representa un tabulador.\n",
    "- \\r — Representa el \"retorno de carro\" o \"regreso al inicio\" o sea el lugar en que la línea vuelve a iniciar.\n",
    "- \\n — Representa la \"nueva línea\" el carácter por medio del cual una línea da inicio.     \n",
    "- \\a — Representa una \"campana\" o \"beep\" que se produce al imprimir este carácter.\n",
    "- \\e — Representa la tecla \"Esc\" o \"Escape\"\n",
    "- \\f — Representa un salto de página\n",
    "- \\v — Representa un tabulador vertical\n",
    "- \\x — Se utiliza para representar caracteres ASCII o ANSI si conoce su código.  De esta forma, si se busca el símbolo de derechos de autor y la fuente en la que se busca utiliza el conjunto de caracteres latín-1 es posible encontrarlo utilizando \\xA9\".\n",
    "- \\u — Se utiliza para representar caracteres Unicode si se conoce su código. \"\\u00A2\" representa el símbolo de centavos.     \n",
    "- \\d — Representa un dígito del 0 al 9.\n",
    "- \\w — Representa cualquier carácter alfanumérico.\n",
    "- \\s — Representa un espacio en blanco.\n",
    "- \\D — Representa cualquier carácter que no sea un dígito del 0 al 9.\n",
    "- \\W — Representa cualquier carácter no alfanumérico.\n",
    "- \\S — Representa cualquier carácter que no sea un espacio en blanco.\n",
    "- \\A — Representa el inicio de la cadena. No un carácter sino una posición.\n",
    "- \\Z — Representa el final de la cadena. No un carácter sino una posición.\n",
    "- \\b — Marca la posición de una palabra limitada por espacios en blanco, puntuación o el inicio/final de una cadena.\n",
    "- \\B — Marca la posición entre dos caracteres alfanuméricos o dos no-alfanuméricos.\n",
    "- \\Q y \\E — Se interpreta como literal todo lo que vaya entre estas dos marcas. Ejemplo: \\Q.*\\E se interpreta como el literal .**  \n",
    "\n",
    "Seguir leyendo en:\n",
    "- https://es.wikipedia.org/wiki/Expresi%C3%B3n_regular\n",
    "- http://do1.dr-chuck.com/pythonlearn/ES_es/pythonlearn.pdf (página 137) # 142\n",
    "- https://docs.python.org/es/3/howto/regex.html"
   ]
  },
  {
   "cell_type": "code",
   "execution_count": null,
   "metadata": {
    "id": "QIiYcN0g6e-1"
   },
   "outputs": [],
   "source": [
    "# Búsqueda de lí­neas que contengan 'lo que se busca'\n",
    "#                                   ----------------\n",
    "import re\n",
    "man = open('PlazaVea.txt')\n",
    "for linea in man:\n",
    "    linea = linea.rstrip()\n",
    "    if re.search('https://\\S+@', linea):\n",
    "        print(re.search('https://\\S+@', linea).group())"
   ]
  },
  {
   "cell_type": "code",
   "execution_count": null,
   "metadata": {
    "id": "eovzJF7k9Va8"
   },
   "outputs": [],
   "source": [
    "import re # no es necesario ya que se importó en el bloque de código anterior\n",
    "man = open('PlazaVea.txt')\n",
    "for linea in man:\n",
    "  linea = linea.rstrip()\n",
    "  if re.search('h..f', linea):\n",
    "    print(linea)"
   ]
  },
  {
   "cell_type": "code",
   "execution_count": null,
   "metadata": {
    "id": "LFhJ62qv_OHi"
   },
   "outputs": [],
   "source": [
    "# Busca e imprime solo las líneas que contienen enlaces HTTPS, sin los textos que están antes:\n",
    "import re\n",
    "man = open('PlazaVea.txt')\n",
    "for linea in man:\n",
    "    linea = linea.rstrip()\n",
    "    if re.search('https://', linea):\n",
    "        print(re.search('https://\\S+', linea).group())"
   ]
  },
  {
   "cell_type": "markdown",
   "metadata": {
    "id": "cdIzZlZeiBMY"
   },
   "source": [
    "**Buscar una palabra específica**"
   ]
  },
  {
   "cell_type": "markdown",
   "metadata": {
    "id": "BwRMDPC8iM7p"
   },
   "source": [
    " - **Desde la web o url:**"
   ]
  },
  {
   "cell_type": "code",
   "execution_count": null,
   "metadata": {
    "id": "R2NB8EfGhf5m"
   },
   "outputs": [],
   "source": [
    "import requests\n",
    "import re\n",
    "\n",
    "url = \"https://www.wikipedia.org/\"\n",
    "\n",
    "# Obtener el contenido de la página web\n",
    "response = requests.get(url)\n",
    "\n",
    "# Buscar la palabra \"Python\" en el contenido de la página web\n",
    "matches = re.findall(r\"Free\", response.text)\n",
    "\n",
    "# Imprimir el número de veces que aparece la palabra \"Python\" en la página web\n",
    "print(f\"La palabra 'Free' aparece {len(matches)} veces en la página web.\")"
   ]
  },
  {
   "cell_type": "markdown",
   "metadata": {
    "id": "2-zBJlZjn8u7"
   },
   "source": [
    "La sintaxis del formato `f-string` en Python le permite incrustar expresiones dentro de cadenas literales, utilizando el especificador de formato `f` seguido del literal de cadena entre llaves. Dentro de las llaves, puede incluir expresiones de Python que serán evaluadas y formateadas como parte de la cadena resultante.\n",
    "\n",
    "En la expresión `f\"La palabra 'tiempo' aparece {len(coincidencias)} veces en el texto.\"`, sucede lo siguiente:\n",
    "\n",
    "1. Se evalúa la expresión `len(coincidencias)`, la cual calcula el número de veces que aparece la palabra \"tiempo\" en el texto.\n",
    "2. El resultado de la expresión, que es un número entero, se formatea como una cadena y se inserta en el literal de cadena en la posición donde se coloca la expresión.\n",
    "3. Luego, la cadena resultante se imprime en la consola.\n",
    "\n",
    "Entonces, la salida del código `print(f\"La palabra 'tiempo' aparece {len(coincidencias)} veces en el texto.\")` será una cadena que diga algo como \"La palabra 'tiempo' aparece 1 vez en el texto.\", donde el número 1 se reemplaza con el número real de veces que aparece la palabra \"tiempo\" en el texto."
   ]
  },
  {
   "cell_type": "markdown",
   "metadata": {
    "id": "z-dSAYZsXEfe"
   },
   "source": [
    "- **En un texto:**"
   ]
  },
  {
   "cell_type": "markdown",
   "metadata": {
    "id": "r5xm4cAFnJCH"
   },
   "source": [
    "\n",
    "- `r`: este prefijo indica que la cadena es una cadena sin formato, lo que significa que las barras invertidas no se tratan como caracteres de escape.\n",
    "\n",
    "En el siguiente ejemplo, la expresión regular `r\"tiempo\"` busca la cadena literal \"tiempo\" en un texto determinado. Utiliza la sintaxis de cadena sin formato (`r\"`) para evitar que el carácter de barra invertida (`\\`) se interprete como un carácter de escape."
   ]
  },
  {
   "cell_type": "code",
   "execution_count": null,
   "metadata": {
    "id": "XjMdPlcsirMO"
   },
   "outputs": [],
   "source": [
    "import re\n",
    "texto = \"Si torturas los datos por suficiente tiempo, confesarán lo que sea.\"\n",
    "patron = r\"tiempo\"\n",
    "coincidencias = re.findall(patron, texto)\n",
    "print(coincidencias)  # Salida: ['tiempo']\n",
    "print(f\"La palabra 'tiempo' aparece {len(coincidencias)} veces en el texto.\")\n"
   ]
  },
  {
   "cell_type": "markdown",
   "metadata": {
    "id": "DGaL6McrXLwk"
   },
   "source": [
    "**Buscar cualquier dígito en un texto:**"
   ]
  },
  {
   "cell_type": "markdown",
   "metadata": {
    "id": "0-NboXDRmO-i"
   },
   "source": [
    "El patrón de expresión regular `r\"\\d\"` **coincide con cualquier carácter de un solo dígito del 0 al 9**. Utiliza las siguientes construcciones:\n",
    "\n",
    "- `r`: este prefijo indica que la cadena es una cadena sin formato, lo que significa que las barras invertidas no se tratan como caracteres de escape.\n",
    "- `\\d`: Esta es una clase de carácter especial que coincide con cualquier carácter de dígito decimal (0-9).\n",
    "\n",
    "En el siguiente ejemplo, el patrón `r\"\\d\"` se usa para encontrar todos los caracteres dígitos en el texto \"Ronald Coase, 1910-2003. Premio Nobel de Economía, 1991\". El resultado es una lista de todos los caracteres de dígitos del texto, que en este caso es ['2', '5']."
   ]
  },
  {
   "cell_type": "code",
   "execution_count": null,
   "metadata": {
    "id": "EJ4HQaYTXNF0"
   },
   "outputs": [],
   "source": [
    "import re\n",
    "\n",
    "texto = \"Ronald Coase, 1910-2003. Premio Nobel de Economía, 1991\"\n",
    "patron = r\"\\d\"\n",
    "coincidencias = re.findall(r\"\\d\", texto)\n",
    "print(coincidencias)  # Salida:['1', '9', '1', '0', '2', '0', '0', '3', '1', '9', '9', '1']"
   ]
  },
  {
   "cell_type": "markdown",
   "metadata": {
    "id": "KFA7WuvXXQBE"
   },
   "source": [
    "**Validar un formato de dirección de correo electrónico:**"
   ]
  },
  {
   "cell_type": "code",
   "execution_count": null,
   "metadata": {
    "id": "js150jkHXTJE"
   },
   "outputs": [],
   "source": [
    "import re\n",
    "\n",
    "correo = \"ejemplo@dominio.com\"\n",
    "patron = r\"\\b[A-Za-z0-9._%+-]+@[A-Za-z0-9.-]+\\.[A-Z|a-z]{2,}\\b\"\n",
    "if re.fullmatch(patron, correo):\n",
    "    print(\"Correo electrónico válido.\")\n",
    "else:\n",
    "    print(\"Correo electrónico inválido.\")"
   ]
  },
  {
   "cell_type": "markdown",
   "metadata": {
    "id": "qIKYEkYZXWM0"
   },
   "source": [
    "**Extraer todos los hashtags de un tweet:**"
   ]
  },
  {
   "cell_type": "code",
   "execution_count": null,
   "metadata": {
    "id": "Lx7LgINtXZGE"
   },
   "outputs": [],
   "source": [
    "import re\n",
    "\n",
    "tweet = \"¡Qué día tan soleado! #verano #playa\"\n",
    "patron = r\"#\\w+\"\n",
    "hashtags = re.findall(patron, tweet)\n",
    "print(hashtags)  # Salida: ['#verano', '#playa']"
   ]
  },
  {
   "cell_type": "markdown",
   "metadata": {
    "id": "d5Llsf_2XcBk"
   },
   "source": [
    "**Extraer números de teléfono en diferentes formatos:**"
   ]
  },
  {
   "cell_type": "code",
   "execution_count": null,
   "metadata": {
    "id": "lIcxc7NLAg1K"
   },
   "outputs": [],
   "source": [
    "import re\n",
    "\n",
    "texto = \"Puedes contactarme al 123-456-7890 o al (987) 654-3210.\"\n",
    "\n",
    "# Buscar fechas en formato dd/mm/aaaa\n",
    "fechas_ddmmyyyy = re.findall(r\"\\b\\d{3}[-.\\s]?\\d{3}[-.\\s]?\\d{4}\\b\", texto)\n",
    "\n",
    "# Buscar fechas en formato aaaa-mm-dd\n",
    "fechas_aaaammdd = re.findall(r\"\\b\\d{3}.{2,}\\d{3}-\\d{4}\\b\", texto) # ¿qué debo modificar en ésta línea?\n",
    "\n",
    "# Imprimir las fechas encontradas\n",
    "print(f\"Fechas en formato dd/mm/aaaa: {fechas_ddmmyyyy}\")\n",
    "print(f\"Fechas en formato aaaa-mm-dd: {fechas_aaaammdd}\")\n"
   ]
  },
  {
   "cell_type": "markdown",
   "metadata": {
    "id": "GRQaj9uqXh3M"
   },
   "source": [
    "**Extraer fechas en diferentes formatos:**"
   ]
  },
  {
   "cell_type": "code",
   "execution_count": null,
   "metadata": {
    "id": "vue5rAOr_r8q"
   },
   "outputs": [],
   "source": [
    "import re\n",
    "\n",
    "texto = \"La reunión será el 01/01/2022 o el 2023-12-31.\"\n",
    "patron = r\"\\b(?:\\d{1,2}[/-]\\d{1,2}[/-]\\d{2,4}|\\d{4}-\\d{2}-\\d{2})\\b\"\n",
    "fechas = re.findall(patron, texto)\n",
    "print(fechas)  # Salida: ['01/01/2022', '2023-12-31']\n"
   ]
  },
  {
   "cell_type": "markdown",
   "metadata": {
    "id": "Gh1_nhcVXt3L"
   },
   "source": [
    "**Contar palabras que contienen la letra 'a' al menos dos veces en un texto.**"
   ]
  },
  {
   "cell_type": "code",
   "execution_count": null,
   "metadata": {
    "id": "zoh5go0_X_0K"
   },
   "outputs": [],
   "source": [
    "import re\n",
    "\n",
    "def contar_palabras_con_a_dos_veces(texto):\n",
    "    patron = r\"\\b\\w*(a\\w*a)\\w*\\b\"\n",
    "    palabras = re.findall(patron, texto)\n",
    "    return len(palabras)\n",
    "\n",
    "texto_ejemplo = \"La casa está cerca. El gato caza ratones.\"\n",
    "contador = contar_palabras_con_a_dos_veces(texto_ejemplo)\n",
    "print(\"Número de palabras con al menos dos 'a':\", contador)  # Salida: 2"
   ]
  },
  {
   "cell_type": "markdown",
   "metadata": {
    "id": "ACyI21MnXnu7"
   },
   "source": [
    "## **Más ejercicios**"
   ]
  },
  {
   "cell_type": "code",
   "execution_count": null,
   "metadata": {
    "id": "GvWF7TKXWBOw"
   },
   "outputs": [],
   "source": [
    "# seguimos buscando lineas con correos, fechas, números telefónicos\n",
    "import re\n",
    "\n",
    "class ExpresionesRegulares:\n",
    "    def __init__(self, texto):\n",
    "        self.texto = texto\n",
    "\n",
    "    def encontrar_correos(self):\n",
    "        \"\"\"Encuentra y muestra todas las direcciones de correo electrónico en el texto.\"\"\"\n",
    "        correos_encontrados = re.findall(r'\\b[A-Za-z0-9._%+-]+@[A-Za-z0-9.-]+\\.[A-Z|a-z]{2,}\\b', self.texto)\n",
    "        return correos_encontrados\n",
    "\n",
    "    def encontrar_numeros_telefono(self):\n",
    "        \"\"\"Encuentra y muestra todos los números de teléfono en el texto.\"\"\"\n",
    "        telefonos_encontrados = re.findall(r'\\b\\d{3}[-.\\s]?\\d{3}[-.\\s]?\\d{4}\\b', self.texto)\n",
    "        return telefonos_encontrados\n",
    "\n",
    "    def encontrar_fechas(self):\n",
    "        \"\"\"Encuentra y muestra todas las fechas en el texto.\"\"\"\n",
    "        fechas_encontradas = re.findall(r'\\b\\d{1,2}[/-]\\d{1,2}[/-]\\d{2,4}\\b', self.texto)\n",
    "        return fechas_encontradas\n",
    "\n",
    "# Ejemplo de uso:\n",
    "texto_ejemplo = \"\"\"\n",
    "Este es un ejemplo de texto con algunas direcciones de correo como ejemplo@dominio.com y otra@example.org.\n",
    "También tiene números de teléfono como 123-456-7890 o 987.654.3210.\n",
    "Además, incluye fechas en diferentes formatos como 01/01/2022, 2023-12-31 o 15-05-24.\n",
    "\"\"\"\n",
    "\n",
    "# Crear una instancia de la clase y pasarle el texto de ejemplo\n",
    "ejemplo_expresiones = ExpresionesRegulares(texto_ejemplo)\n",
    "\n",
    "# Encontrar y mostrar correos electrónicos\n",
    "print(\"Correos encontrados:\")\n",
    "print(ejemplo_expresiones.encontrar_correos())\n",
    "\n",
    "# Encontrar y mostrar números de teléfono\n",
    "print(\"\\nNúmeros de teléfono encontrados:\")\n",
    "print(ejemplo_expresiones.encontrar_numeros_telefono())\n",
    "\n",
    "# Encontrar y mostrar fechas\n",
    "print(\"\\nFechas encontradas:\")\n",
    "print(ejemplo_expresiones.encontrar_fechas())"
   ]
  },
  {
   "cell_type": "code",
   "execution_count": null,
   "metadata": {
    "id": "AUPZWv0tWPt_"
   },
   "outputs": [],
   "source": [
    "# Crear una instancia de la clase ExpresionesRegulares con un nuevo texto\n",
    "texto_nuevo = \"Este es otro ejemplo de texto con una dirección de correo ejemplo2@dominio.com y un número de teléfono 555-555-5555.\"\n",
    "ejemplo_expresiones_nuevo = ExpresionesRegulares(texto_nuevo)\n",
    "\n",
    "# Encontrar y mostrar correos electrónicos en el nuevo texto\n",
    "print(\"\\nCorreos encontrados en el nuevo texto:\")\n",
    "print(ejemplo_expresiones_nuevo.encontrar_correos())\n",
    "\n",
    "# Encontrar y mostrar números de teléfono en el nuevo texto\n",
    "print(\"\\nNúmeros de teléfono encontrados en el nuevo texto:\")\n",
    "print(ejemplo_expresiones_nuevo.encontrar_numeros_telefono())\n"
   ]
  },
  {
   "cell_type": "code",
   "execution_count": 81,
   "metadata": {
    "id": "L5rW4Zz-Wkwz"
   },
   "outputs": [],
   "source": [
    "import re\n",
    "\n",
    "# Expresión regular para que coincida con una contraseña segura\n",
    "strong_password_regex = r\"^(?=.*[a-z])(?=.*[A-Z])(?=.*\\d)(?=.*[@$!%*#?&])[A-Za-z\\d@$!%*#?&]{8,}$\"\n",
    "\n",
    "# Expresión regular para que coincida con una URL válida\n",
    "valid_url_regex = r\"^(https?:\\/\\/)?([\\da-z\\.-]+)\\.([a-z\\.]{2,6})([\\/\\w \\.-]*)*\\/?$\"\n",
    "\n",
    "# Expresión regular para que coincida con una dirección de correo electrónico válida\n",
    "valid_email_regex = r\"^[a-z0-9._%+-]+@[a-z0-9.-]+\\.[a-z]{2,}$\""
   ]
  },
  {
   "cell_type": "code",
   "execution_count": null,
   "metadata": {
    "id": "kmjwjdM9Wy9N"
   },
   "outputs": [],
   "source": [
    "# también agregamos buscar html\n",
    "import re\n",
    "\n",
    "class ExpresionesRegularesAvanzadas:\n",
    "    def __init__(self, texto):\n",
    "        self.texto = texto\n",
    "\n",
    "    def encontrar_codigos_postales(self):\n",
    "        \"\"\"Encuentra y muestra todos los códigos postales en el texto.\"\"\"\n",
    "        codigos_postales_encontrados = re.findall(r'\\b\\d{5}(?:[-\\s]\\d{4})?\\b', self.texto)\n",
    "        return codigos_postales_encontrados\n",
    "\n",
    "    def encontrar_etiquetas_html(self):\n",
    "        \"\"\"Encuentra y muestra todas las etiquetas HTML en el texto.\"\"\"\n",
    "        etiquetas_encontradas = re.findall(r'<[^>]+>', self.texto)\n",
    "        return etiquetas_encontradas\n",
    "\n",
    "    def encontrar_urls(self):\n",
    "        \"\"\"Encuentra y muestra todas las URLs en el texto.\"\"\"\n",
    "        urls_encontradas = re.findall(r'https?://(?:[-\\w.]|(?:%[\\da-fA-F]{2}))+', self.texto)\n",
    "        return urls_encontradas\n",
    "\n",
    "# Ejemplo de uso:\n",
    "texto_ejemplo = \"\"\"\n",
    "Este es un ejemplo de texto con diferentes tipos de datos.\n",
    "Incluye códigos postales como 12345 o 54321-6789.\n",
    "También tiene etiquetas HTML como <p> y <a href=\"https://www.ejemplo.com\">.\n",
    "Además, contiene URLs como https://www.ejemplo.com/ejemplo y http://otro-ejemplo.com.\n",
    "\"\"\"\n",
    "\n",
    "# Crear una instancia de la clase y pasarle el texto de ejemplo\n",
    "expresiones_avanzadas = ExpresionesRegularesAvanzadas(texto_ejemplo)\n",
    "\n",
    "# Encontrar y mostrar códigos postales\n",
    "print(\"Códigos postales encontrados:\")\n",
    "print(expresiones_avanzadas.encontrar_codigos_postales())\n",
    "\n",
    "# Encontrar y mostrar etiquetas HTML\n",
    "print(\"\\nEtiquetas HTML encontradas:\")\n",
    "print(expresiones_avanzadas.encontrar_etiquetas_html())\n",
    "\n",
    "# Encontrar y mostrar URLs\n",
    "print(\"\\nURLs encontradas:\")\n",
    "print(expresiones_avanzadas.encontrar_urls())\n"
   ]
  }
 ],
 "metadata": {
  "colab": {
   "provenance": []
  },
  "kernelspec": {
   "display_name": "Python 3 (ipykernel)",
   "language": "python",
   "name": "python3"
  },
  "language_info": {
   "codemirror_mode": {
    "name": "ipython",
    "version": 3
   },
   "file_extension": ".py",
   "mimetype": "text/x-python",
   "name": "python",
   "nbconvert_exporter": "python",
   "pygments_lexer": "ipython3",
   "version": "3.11.7"
  }
 },
 "nbformat": 4,
 "nbformat_minor": 4
}
