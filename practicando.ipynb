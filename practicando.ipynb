{
 "cells": [
  {
   "cell_type": "markdown",
   "id": "a8744ec0-b55a-4b5e-a3ac-cd86bcef613e",
   "metadata": {},
   "source": [
    "## <center>PROBANDO ARCHIVO IPYNB</center>"
   ]
  },
  {
   "cell_type": "markdown",
   "id": "1db7ad7a-190c-4457-b9a8-3948043db6b1",
   "metadata": {},
   "source": [
    "Somos grupo en lenguaje de programación\n",
    "\n",
    "<b>Integrantes</b>\n",
    "* Carrasco Lagos Fiorella\n",
    "* Sánchez Villena Estefany\n",
    "* Orellana Nolaasco Piero"
   ]
  },
  {
   "cell_type": "code",
   "execution_count": 1,
   "id": "8084e33a-bbda-4261-b464-1c671595445b",
   "metadata": {},
   "outputs": [
    {
     "name": "stdout",
     "output_type": "stream",
     "text": [
      "8\n"
     ]
    }
   ],
   "source": [
    "x=4\n",
    "y=2\n",
    "m=x*y\n",
    "print(m)"
   ]
  },
  {
   "cell_type": "markdown",
   "id": "c0decd8f",
   "metadata": {},
   "source": [
    "Editando desde GitHub"
   ]
  },
  {
   "cell_type": "markdown",
   "id": "07e9e2cd-be90-4a0e-a5d0-4f6355bb9233",
   "metadata": {},
   "source": [
    "añadiendo texto (otra cuenta)"
   ]
  },
  {
   "cell_type": "code",
   "execution_count": null,
   "id": "9dd41791-fd87-4255-927d-fd8ff5b3becd",
   "metadata": {},
   "outputs": [],
   "source": []
  }
 ],
 "metadata": {
  "kernelspec": {
   "display_name": "Python 3 (ipykernel)",
   "language": "python",
   "name": "python3"
  },
  "language_info": {
   "codemirror_mode": {
    "name": "ipython",
    "version": 3
   },
   "file_extension": ".py",
   "mimetype": "text/x-python",
   "name": "python",
   "nbconvert_exporter": "python",
   "pygments_lexer": "ipython3",
   "version": "3.11.7"
  }
 },
 "nbformat": 4,
 "nbformat_minor": 5
}
