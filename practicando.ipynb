{
 "cells": [
  {
   "cell_type": "markdown",
   "id": "a8744ec0-b55a-4b5e-a3ac-cd86bcef613e",
   "metadata": {},
   "source": [
    "## <center>PROBANDO ARCHIVO IPYNB</center>"
   ]
  },
  {
   "cell_type": "markdown",
   "id": "1db7ad7a-190c-4457-b9a8-3948043db6b1",
   "metadata": {},
   "source": [
    "Somos grupo en lenguaje de programación\n",
    "\n",
    "<b>Integrantes</b>\n",
    "* Carrasco Lagos Fiorella\n",
    "* Sánchez Villena Estefany\n",
    "* Orellana Nolaasco Piero"
   ]
  },
  {
   "cell_type": "code",
   "execution_count": 1,
   "id": "8084e33a-bbda-4261-b464-1c671595445b",
   "metadata": {},
   "outputs": [
    {
     "name": "stdout",
     "output_type": "stream",
     "text": [
      "8\n"
     ]
    }
   ],
   "source": [
    "x=4\n",
    "y=2\n",
    "m=x*y\n",
    "print(m)"
   ]
  },
  {
   "cell_type": "markdown",
   "id": "c0decd8f",
   "metadata": {},
   "source": [
    "Editando desde GitHub"
   ]
  },
  {
   "cell_type": "markdown",
   "id": "07e9e2cd-be90-4a0e-a5d0-4f6355bb9233",
   "metadata": {},
   "source": [
    "añadiendo texto (otra cuenta)"
   ]
  },
  {
   "cell_type": "markdown",
   "id": "fb45e787-28f8-4995-9e91-6b678f92776f",
   "metadata": {},
   "source": [
    "![github](https://th.bing.com/th/id/OIP.9PnPjPI65fGwLiMfluVLrwHaDt?rs=1&pid=ImgDetMain)"
   ]
  },
  {
   "cell_type": "markdown",
   "id": "a4f9f62e-4c3a-433d-a21e-97f7ddf2541c",
   "metadata": {},
   "source": [
    "Probando añadir una imagen"
   ]
  },
  {
   "cell_type": "markdown",
   "id": "c3390222-c35f-4592-821e-03aeba9c647a",
   "metadata": {},
   "source": [
    "Probando expresiones regulares"
   ]
  },
  {
   "cell_type": "code",
   "execution_count": 1,
   "id": "4954ef8f-c424-44e2-b309-e6c606650751",
   "metadata": {},
   "outputs": [
    {
     "name": "stdout",
     "output_type": "stream",
     "text": [
      "['Github']\n",
      "La palabra 'Github' aparece 1 veces en el texto.\n"
     ]
    }
   ],
   "source": [
    "import re\n",
    "texto = \"Si practicamos aprenderemos Github.\"\n",
    "patron = r\"Github\"\n",
    "coincidencias = re.findall(patron, texto)\n",
    "print(coincidencias)  # Salida: ['Github']\n",
    "print(f\"La palabra 'Github' aparece {len(coincidencias)} veces en el texto.\")"
   ]
  },
  {
   "cell_type": "markdown",
   "id": "4f92b562-a15b-454d-802e-106e0bf58152",
   "metadata": {},
   "source": [
    "<b><center> Cambios hechos el 11/05/2024<b></center>"
   ]
  },
  {
   "cell_type": "markdown",
   "id": "a58870b3-73b1-4f8a-8715-32bac8dee88f",
   "metadata": {},
   "source": [
    "[![video](https://img.youtube.com/vi/ID-iJOw9rLo/0.jpg)](https://youtu.be/ID-iJOw9rLo)"
   ]
  },
  {
   "cell_type": "markdown",
   "id": "3342c084-a3c2-4028-8afc-e6b8b5400d3f",
   "metadata": {},
   "source": [
    "### cambios hechos el 12 de abril por Estefany Sanchez"
   ]
  },
  {
   "cell_type": "markdown",
   "id": "d4bb4ced-bcd4-4859-913c-33def14cc4d9",
   "metadata": {},
   "source": [
    "#### calculando area de un circulo"
   ]
  },
  {
   "cell_type": "code",
   "execution_count": 2,
   "id": "1992eded-92ca-469b-abc1-86b7708e09e8",
   "metadata": {},
   "outputs": [
    {
     "name": "stdin",
     "output_type": "stream",
     "text": [
      "Ingrese el radio del círculo:  2\n"
     ]
    },
    {
     "name": "stdout",
     "output_type": "stream",
     "text": [
      "El área del círculo con radio 2.0 es: 12.566370614359172\n"
     ]
    }
   ],
   "source": [
    "import math\r\n",
    "\r\n",
    "def calcular_area_circulo(radio):\r\n",
    "    area = math.pi * radio**2\r\n",
    "    return area\r\n",
    "\r\n",
    "radio = float(input(\"Ingrese el radio del círculo: \"))\r\n",
    "area = calcular_area_circulo(radio)\r\n",
    "print(\"El área del círculo con radio\", radio, \"es:\", area)\r\n",
    "\n"
   ]
  },
  {
   "cell_type": "markdown",
   "id": "b0803665-6568-4ef7-86fe-44b28e75b965",
   "metadata": {},
   "source": [
    "#### calculando si la cadena es palindromo"
   ]
  },
  {
   "cell_type": "code",
   "execution_count": 3,
   "id": "a6612045-ce1f-4289-908b-6d78ee8a7d42",
   "metadata": {},
   "outputs": [
    {
     "name": "stdin",
     "output_type": "stream",
     "text": [
      "Ingrese una cadena de texto:  anita lava la tina\n"
     ]
    },
    {
     "name": "stdout",
     "output_type": "stream",
     "text": [
      "¡La cadena es un palíndromo!\n"
     ]
    }
   ],
   "source": [
    "def es_palindromo(cadena):\n",
    "    # Convertir la cadena a minúsculas y eliminar los espacios en blanco\n",
    "    cadena = cadena.lower().replace(\" \", \"\")\n",
    "    # Comparar la cadena original con su reverso\n",
    "    return cadena == cadena[::-1]\n",
    "\n",
    "# Pedir al usuario que ingrese una cadena de texto\n",
    "texto = input(\"Ingrese una cadena de texto: \")\n",
    "\n",
    "# Verificar si es un palíndromo o no\n",
    "if es_palindromo(texto):\n",
    "    print(\"¡La cadena es un palíndromo!\")\n",
    "else:\n",
    "    print(\"La cadena no es un palíndromo.\")\n"
   ]
  },
  {
   "cell_type": "markdown",
   "id": "26fe9e83-5e0f-426d-8aa6-ac4fe2a456d7",
   "metadata": {},
   "source": [
    "# Cómo agregar archivos a un repositorio Git y hacer un commit\r\n",
    "1. **Verificar el estado de los archivos:**\r\n",
    "   Antes de agregar archivos al repositorio, es útil verificar el estado de los archivos en tu directorio de trabajo. Puedes hacerlo utilizando el coman\n",
    "   do:\r\n",
    "   ```bash\r\n",
    "   git st   git add .\n",
    "   git commit -m \"Agregado archivo.py y modificado README.md\"\r",
    "\r\n",
    "Este fragmento explica de manera concisa cómo agregar archivos al área de preparación y realizar un commit en Git, que son acciones fundamentales en el control de versiones.ones.\r\n",
    "\r\n",
    "atus\r\n"
   ]
  },
  {
   "cell_type": "markdown",
   "id": "2c5fba76-337f-42c7-bcfc-09501d4495a9",
   "metadata": {},
   "source": [
    "## Clonar un repositorio Git y realizar un push\r\n",
    "\r\n",
    "1. **Clonar un repositorio remoto:**\r\n",
    "   Para clonar un repositorio Git desde un servidor remoto a tu máquina local, puedes utilizar el comando `git clone`. Por ejemplo, para clonar un repositorio desde GitHub, puedes usar:\r\n",
    "   ```bash\r\n",
    "   git clone https://github.com/usuario/nombre-repositorio.git\r\n"
   ]
  },
  {
   "cell_type": "markdown",
   "id": "bb5f7e48-9497-416e-8ab8-928995313698",
   "metadata": {},
   "source": [
    "Esto creará una copia del repositorio en tu directorio local.\r\n",
    "\r\n",
    "Realizar cambios y realizar un commit:\r\n",
    "Una vez que hayas clonado el repositorio y realices cambios en los archivos, puedes agregar estos cambios al área de preparación y realizar un commit como se describe en el fragmento anterior.\r\n",
    "\r\n",
    "Subir cambios al repositorio remoto (push):\r\n",
    "Después de realizar un commit con tus cambios, puedes subirlos al repositorio remoto utilizando el comando git push. Por ejemplo, para enviar los cambios al servidor remoto en la rama principal (generalmente master o main), puede:\n",
    " usar:"
   ]
  },
  {
   "cell_type": "code",
   "execution_count": null,
   "id": "3f35f3a8-6863-4a2e-b2ad-78e99dd8ed0b",
   "metadata": {},
   "outputs": [],
   "source": [
    "import re\n",
    "\n",
    "def extraer_urls(texto):\n",
    "    patron = r'(https?://[^\\s]+|www\\.[^\\s]+)'\n",
    "    urls = re.findall(patron, texto)\n",
    "    \n",
    "    for url in urls:\n",
    "        print(url)\n",
    "        \n",
    "# Texto de ejemplo\n",
    "texto = \"\"\"\n",
    "www.google.com\n",
    "http://www.google.pl/search?q=exercise+programming\n",
    "https://www.google.cz/search?q=exercise&var=variable\n",
    "\"\"\"\n",
    "\n",
    "extraer_urls(texto)\n",
    "\n"
   ]
  }
 ],
 "metadata": {
  "kernelspec": {
   "display_name": "Python 3 (ipykernel)",
   "language": "python",
   "name": "python3"
  },
  "language_info": {
   "codemirror_mode": {
    "name": "ipython",
    "version": 3
   },
   "file_extension": ".py",
   "mimetype": "text/x-python",
   "name": "python",
   "nbconvert_exporter": "python",
   "pygments_lexer": "ipython3",
   "version": "3.11.7"
  }
 },
 "nbformat": 4,
 "nbformat_minor": 5
}
